{
  "nbformat": 4,
  "nbformat_minor": 0,
  "metadata": {
    "kernelspec": {
      "display_name": "Python 3",
      "language": "python",
      "name": "python3"
    },
    "language_info": {
      "codemirror_mode": {
        "name": "ipython",
        "version": 3
      },
      "file_extension": ".py",
      "mimetype": "text/x-python",
      "name": "python",
      "nbconvert_exporter": "python",
      "pygments_lexer": "ipython3",
      "version": "3.7.2"
    },
    "colab": {
      "name": "lab_1_interest_functions.ipynb",
      "provenance": [],
      "include_colab_link": true
    }
  },
  "cells": [
    {
      "cell_type": "markdown",
      "metadata": {
        "id": "view-in-github",
        "colab_type": "text"
      },
      "source": [
        "<a href=\"https://colab.research.google.com/github/kingyeet9048/lab1_interest_functions/blob/master/lab_1_interest_functions.ipynb\" target=\"_parent\"><img src=\"https://colab.research.google.com/assets/colab-badge.svg\" alt=\"Open In Colab\"/></a>"
      ]
    },
    {
      "cell_type": "markdown",
      "metadata": {
        "id": "6hAEnja1tw37",
        "colab_type": "text"
      },
      "source": [
        "## Lab 1 - Compound Interest Functions\n",
        "\n",
        "Below you will find a table of important formulae related to compound interest.  \n",
        "\n",
        "<img src=\"https://www.dummies.com/wp-content/uploads/251689.image0.jpg\" alt=\"image0.jpg\" width=\"400\" height=\"319\">\n",
        "\n",
        "In this lab, you will create functions for each of these using (and documenting) the following workflow.\n",
        "\n",
        "1. Work out the correct answer for a few examples. *Hint* Search for e.g. \"worked out compound interest examples\" on the web.\n",
        "2. Write a `lambda` function and test this function on your test cases.\n",
        "3. Convert the `lambda` function to a `def` statement with an informative doc string that follows the [Google formating rules](https://google.github.io/styleguide/pyguide.html#383-functions-and-methods).\n",
        "4. Write an automated test function (using your previous examples) that will test your `def` statement function each time the code is executed."
      ]
    },
    {
      "cell_type": "markdown",
      "metadata": {
        "id": "Ted78Vpttw38",
        "colab_type": "text"
      },
      "source": [
        "#### Problem 1 -- Apply the process to create a simple interest functions."
      ]
    },
    {
      "cell_type": "code",
      "metadata": {
        "id": "mQXsHY6mtw38",
        "colab_type": "code",
        "colab": {
          "base_uri": "https://localhost:8080/",
          "height": 34
        },
        "outputId": "73df3982-8214-4fc1-9d93-ffc43937f163"
      },
      "source": [
        "principle = 4000\n",
        "interestRate = 4.5\n",
        "time = 3\n",
        "\n",
        "I = principle * (interestRate/100) * 3\n",
        "I"
      ],
      "execution_count": 1,
      "outputs": [
        {
          "output_type": "execute_result",
          "data": {
            "text/plain": [
              "540.0"
            ]
          },
          "metadata": {
            "tags": []
          },
          "execution_count": 1
        }
      ]
    },
    {
      "cell_type": "code",
      "metadata": {
        "id": "OKfSW01YvXNx",
        "colab_type": "code",
        "colab": {
          "base_uri": "https://localhost:8080/",
          "height": 34
        },
        "outputId": "c081e0a7-a642-4d36-85ee-bea45022c2f1"
      },
      "source": [
        "I = lambda principle, interestRate, time: principle * (interestRate/100) * 3\n",
        "I(4000, 4.5, 3)"
      ],
      "execution_count": 4,
      "outputs": [
        {
          "output_type": "execute_result",
          "data": {
            "text/plain": [
              "540.0"
            ]
          },
          "metadata": {
            "tags": []
          },
          "execution_count": 4
        }
      ]
    },
    {
      "cell_type": "code",
      "metadata": {
        "id": "g46FqPUlvt6n",
        "colab_type": "code",
        "colab": {}
      },
      "source": [
        "def simpleInterest(principle, interestRate, time):\n",
        "    \"\"\"\n",
        "        Finds total amount after given amount of time\n",
        "\n",
        "        Args:\n",
        "\n",
        "        principle - Initial Amount (A number)\n",
        "        interest rate - A float (Will be divided by 100 to get the percentage)\n",
        "        time - a number(Time passed)\n",
        "\n",
        "        Returns:\n",
        "\n",
        "        Total amount owed.\n",
        "    \"\"\"\n",
        "    output = principle * (interestRate/100) * 3\n",
        "    return output\n",
        "\n",
        "def simpleInterestTest():\n",
        "    assert simpleInterest(4000, 4.5, 3) == 540\n",
        "simpleInterestTest()"
      ],
      "execution_count": 7,
      "outputs": []
    },
    {
      "cell_type": "markdown",
      "metadata": {
        "id": "N39CO9KYtw4A",
        "colab_type": "text"
      },
      "source": [
        "#### Problem 2 -- Apply the process to create a compound interest functions."
      ]
    },
    {
      "cell_type": "code",
      "metadata": {
        "id": "RXu6pYootw4A",
        "colab_type": "code",
        "colab": {
          "base_uri": "https://localhost:8080/",
          "height": 34
        },
        "outputId": "92252c6d-00d8-4a35-a80d-4f45863304d3"
      },
      "source": [
        "principle = 5000\n",
        "rate = 5\n",
        "timesCompounded = 12\n",
        "time = 10\n",
        "\n",
        "amount = principle * (1 + (rate/100)/timesCompounded)**(timesCompounded*time)\n",
        "amount"
      ],
      "execution_count": 9,
      "outputs": [
        {
          "output_type": "execute_result",
          "data": {
            "text/plain": [
              "8235.0474884514"
            ]
          },
          "metadata": {
            "tags": []
          },
          "execution_count": 9
        }
      ]
    },
    {
      "cell_type": "code",
      "metadata": {
        "id": "JT5HcN8ez3RL",
        "colab_type": "code",
        "colab": {
          "base_uri": "https://localhost:8080/",
          "height": 34
        },
        "outputId": "16e1c074-89b2-46ce-bcfc-6838beb972fc"
      },
      "source": [
        "amount = lambda principle, rate, timesCompounded, time: principle * (1 + (rate/100)/timesCompounded)**(timesCompounded*time)\n",
        "\n",
        "amount(5000, 5, 12, 10)"
      ],
      "execution_count": 10,
      "outputs": [
        {
          "output_type": "execute_result",
          "data": {
            "text/plain": [
              "8235.0474884514"
            ]
          },
          "metadata": {
            "tags": []
          },
          "execution_count": 10
        }
      ]
    },
    {
      "cell_type": "code",
      "metadata": {
        "id": "XrJ9mGNT0ExJ",
        "colab_type": "code",
        "colab": {
          "base_uri": "https://localhost:8080/",
          "height": 34
        },
        "outputId": "82380b39-b3d4-4b13-8d3a-bfe785a43cd4"
      },
      "source": [
        "def compoundInterest(principle, rate, timesCompounded, time):\n",
        "    \"\"\"\n",
        "        Finds the compound interest given the attributes\n",
        "\n",
        "        Args:\n",
        "\n",
        "        principle - Initial Amount (A number)\n",
        "        rate - a number(annual interert rate)\n",
        "        timesCompounded - a number(number of times that interest is compounded per unit in t)\n",
        "        time - a number(time the money is invested or borrowed for)\n",
        "\n",
        "        Returns:\n",
        "        Future value of the investment +  interest\n",
        "    \"\"\"\n",
        "    output = principle * (1 + (rate/100)/timesCompounded)**(timesCompounded*time)\n",
        "    return output\n",
        "\n",
        "def compoundInterestTest():\n",
        "    int(compoundInterest(5000, 5, 12, 10)) == 8235\n",
        "compoundInterestTest()"
      ],
      "execution_count": 13,
      "outputs": [
        {
          "output_type": "stream",
          "text": [
            "Done!\n"
          ],
          "name": "stdout"
        }
      ]
    },
    {
      "cell_type": "markdown",
      "metadata": {
        "id": "URzU0yV5tw4E",
        "colab_type": "text"
      },
      "source": [
        "#### Problem 3 -- Apply the process to create a amortized loan payment function."
      ]
    },
    {
      "cell_type": "code",
      "metadata": {
        "id": "nQ1p2xxYtw4E",
        "colab_type": "code",
        "colab": {
          "base_uri": "https://localhost:8080/",
          "height": 34
        },
        "outputId": "412277b1-0a14-4d9a-ef6a-0d8bc76ce357"
      },
      "source": [
        "interestRate = 5\n",
        "compoundings = 12\n",
        "\n",
        "ER = ((1 + (interestRate/100) / compoundings)**compoundings) - 1\n",
        "ER"
      ],
      "execution_count": 24,
      "outputs": [
        {
          "output_type": "execute_result",
          "data": {
            "text/plain": [
              "0.051161897881732976"
            ]
          },
          "metadata": {
            "tags": []
          },
          "execution_count": 24
        }
      ]
    },
    {
      "cell_type": "code",
      "metadata": {
        "id": "OZemVli13bDs",
        "colab_type": "code",
        "colab": {
          "base_uri": "https://localhost:8080/",
          "height": 34
        },
        "outputId": "6a833ec3-5214-4689-d24a-7fe764168726"
      },
      "source": [
        "ER = lambda interestRate, compoundings: ((1 + (interestRate/100) / compoundings)**compoundings) - 1\n",
        "ER(5, 12)"
      ],
      "execution_count": 25,
      "outputs": [
        {
          "output_type": "execute_result",
          "data": {
            "text/plain": [
              "0.051161897881732976"
            ]
          },
          "metadata": {
            "tags": []
          },
          "execution_count": 25
        }
      ]
    },
    {
      "cell_type": "code",
      "metadata": {
        "id": "7wUaRbkQ3iLJ",
        "colab_type": "code",
        "colab": {}
      },
      "source": [
        "def effectiveRate(interestRate, compoundings):\n",
        "    \"\"\"\n",
        "        Finds the Effective Rate give the interest rate and the compoundings\n",
        "\n",
        "        Args:\n",
        "\n",
        "        InterestRate - a number\n",
        "        compoundings - a number\n",
        "\n",
        "        Returns:\n",
        "        Real return on any interest paying investment. (A number)\n",
        "    \"\"\"\n",
        "    output = ((1 + (interestRate/100) / compoundings)**compoundings) - 1\n",
        "    return output\n",
        "def effectiveRateTest():\n",
        "    assert int(effectiveRate(5,12) * 100) == 5\n",
        "effectiveRateTest()"
      ],
      "execution_count": 29,
      "outputs": []
    },
    {
      "cell_type": "markdown",
      "metadata": {
        "id": "VDTko-XDtw4H",
        "colab_type": "text"
      },
      "source": [
        "#### Problem 4 -- Apply the process to create a remaining balance function"
      ]
    },
    {
      "cell_type": "code",
      "metadata": {
        "id": "xDUaYaTftw4H",
        "colab_type": "code",
        "colab": {
          "base_uri": "https://localhost:8080/",
          "height": 34
        },
        "outputId": "4b704884-9157-498c-d39c-c713cbce3d98"
      },
      "source": [
        "regularPayment = 1000\n",
        "rate = 0.06\n",
        "numberOfPayment = 10\n",
        "const = 12\n",
        "\n",
        "remainingBalance = (regularPayment * (1 - (1 + (rate/const))**-(10*const))) / (rate/const)\n",
        "remainingBalance"
      ],
      "execution_count": 32,
      "outputs": [
        {
          "output_type": "execute_result",
          "data": {
            "text/plain": [
              "90073.45332716724"
            ]
          },
          "metadata": {
            "tags": []
          },
          "execution_count": 32
        }
      ]
    },
    {
      "cell_type": "code",
      "metadata": {
        "id": "s7nWknRQ_C6I",
        "colab_type": "code",
        "colab": {
          "base_uri": "https://localhost:8080/",
          "height": 34
        },
        "outputId": "417bf328-ff22-40c2-f066-a58107c79c8d"
      },
      "source": [
        "remainingBalance = lambda regularPayment, rate, numberOfPayment, const: (regularPayment * (1 - (1 + (rate/const))**-(10*const))) / (rate/const)\n",
        "\n",
        "remainingBalance(1000, 0.06, 10, 12)"
      ],
      "execution_count": 33,
      "outputs": [
        {
          "output_type": "execute_result",
          "data": {
            "text/plain": [
              "90073.45332716724"
            ]
          },
          "metadata": {
            "tags": []
          },
          "execution_count": 33
        }
      ]
    },
    {
      "cell_type": "code",
      "metadata": {
        "id": "InwydBbZ_PLt",
        "colab_type": "code",
        "colab": {}
      },
      "source": [
        "def remainingBalance(regularPayment, rate, numberOfPayment, const):\n",
        "    \"\"\"\n",
        "        Finds the balance still owed. \n",
        "\n",
        "        Args:\n",
        "\n",
        "        regularPayment - a number(amount to pay each period)\n",
        "        rate - a float(interest rate)\n",
        "        numberOfPayments - a number(number of payment years left)\n",
        "        const - a number(# of months in a year)\n",
        "\n",
        "        Returns:\n",
        "        The remaining balance that is stilled owed on the loan.\n",
        "    \"\"\"\n",
        "    output = (regularPayment * (1 - (1 + (rate/const))**-(10*const))) / (rate/const)\n",
        "    return output\n",
        "def remainingBalanceTest():\n",
        "    assert int(remainingBalance(1000, 0.06, 10, 12)) == 90073\n",
        "remainingBalanceTest()"
      ],
      "execution_count": 37,
      "outputs": []
    }
  ]
}